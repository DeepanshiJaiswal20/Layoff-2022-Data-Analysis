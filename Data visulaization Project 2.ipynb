{
 "cells": [
  {
   "cell_type": "markdown",
   "id": "456a1378",
   "metadata": {},
   "source": [
    "# Layoffs data analysis 2022"
   ]
  },
  {
   "cell_type": "code",
   "execution_count": 2,
   "id": "3456414a",
   "metadata": {},
   "outputs": [],
   "source": [
    "import pandas as pd\n",
    "import numpy as np\n",
    "import matplotlib.pyplot as plt"
   ]
  },
  {
   "cell_type": "markdown",
   "id": "8c4bd8c6",
   "metadata": {},
   "source": [
    "# Reading the data"
   ]
  },
  {
   "cell_type": "code",
   "execution_count": 3,
   "id": "6e1ec661",
   "metadata": {},
   "outputs": [
    {
     "data": {
      "text/html": [
       "<div>\n",
       "<style scoped>\n",
       "    .dataframe tbody tr th:only-of-type {\n",
       "        vertical-align: middle;\n",
       "    }\n",
       "\n",
       "    .dataframe tbody tr th {\n",
       "        vertical-align: top;\n",
       "    }\n",
       "\n",
       "    .dataframe thead th {\n",
       "        text-align: right;\n",
       "    }\n",
       "</style>\n",
       "<table border=\"1\" class=\"dataframe\">\n",
       "  <thead>\n",
       "    <tr style=\"text-align: right;\">\n",
       "      <th></th>\n",
       "      <th>Company</th>\n",
       "      <th>Location</th>\n",
       "      <th>Industry</th>\n",
       "      <th>Laid_Off_Count</th>\n",
       "      <th>Percentage</th>\n",
       "      <th>Date</th>\n",
       "      <th>Source</th>\n",
       "      <th>Funds_Raised</th>\n",
       "      <th>Stage</th>\n",
       "      <th>Date_Added</th>\n",
       "      <th>Country</th>\n",
       "      <th>List_of_Employees_Laid_Off</th>\n",
       "    </tr>\n",
       "  </thead>\n",
       "  <tbody>\n",
       "    <tr>\n",
       "      <th>0</th>\n",
       "      <td>JD.ID</td>\n",
       "      <td>Jakarta</td>\n",
       "      <td>Retail</td>\n",
       "      <td>200.0</td>\n",
       "      <td>0.30</td>\n",
       "      <td>2022-12-14</td>\n",
       "      <td>https://jakartaglobe.id/business/jdid-layoffs-...</td>\n",
       "      <td>5100.0</td>\n",
       "      <td>IPO</td>\n",
       "      <td>2022-12-15 02:19:38</td>\n",
       "      <td>Indonesia</td>\n",
       "      <td>Unknown</td>\n",
       "    </tr>\n",
       "    <tr>\n",
       "      <th>1</th>\n",
       "      <td>GoStudent</td>\n",
       "      <td>Vienna</td>\n",
       "      <td>Education</td>\n",
       "      <td>100.0</td>\n",
       "      <td>NaN</td>\n",
       "      <td>2022-12-14</td>\n",
       "      <td>https://www.businessinsider.com/gostudent-3-bi...</td>\n",
       "      <td>686.0</td>\n",
       "      <td>Series D</td>\n",
       "      <td>2022-12-15 02:11:42</td>\n",
       "      <td>Austria</td>\n",
       "      <td>Unknown</td>\n",
       "    </tr>\n",
       "    <tr>\n",
       "      <th>2</th>\n",
       "      <td>ChowNow</td>\n",
       "      <td>Los Angeles</td>\n",
       "      <td>Food</td>\n",
       "      <td>40.0</td>\n",
       "      <td>0.10</td>\n",
       "      <td>2022-12-14</td>\n",
       "      <td>https://www.restaurantbusinessonline.com/amp/t...</td>\n",
       "      <td>64.0</td>\n",
       "      <td>Series C</td>\n",
       "      <td>2022-12-15 02:10:04</td>\n",
       "      <td>United States</td>\n",
       "      <td>Unknown</td>\n",
       "    </tr>\n",
       "    <tr>\n",
       "      <th>3</th>\n",
       "      <td>Landing</td>\n",
       "      <td>Birmingham</td>\n",
       "      <td>Real Estate</td>\n",
       "      <td>NaN</td>\n",
       "      <td>NaN</td>\n",
       "      <td>2022-12-14</td>\n",
       "      <td>https://www.al.com/business/2022/12/birmingham...</td>\n",
       "      <td>347.0</td>\n",
       "      <td>Series C</td>\n",
       "      <td>2022-12-15 02:10:48</td>\n",
       "      <td>United States</td>\n",
       "      <td>Unknown</td>\n",
       "    </tr>\n",
       "    <tr>\n",
       "      <th>4</th>\n",
       "      <td>Thumbtack</td>\n",
       "      <td>SF Bay Area</td>\n",
       "      <td>Consumer</td>\n",
       "      <td>160.0</td>\n",
       "      <td>0.14</td>\n",
       "      <td>2022-12-13</td>\n",
       "      <td>Internal memo</td>\n",
       "      <td>698.0</td>\n",
       "      <td>Series I</td>\n",
       "      <td>2022-12-13 20:12:50</td>\n",
       "      <td>United States</td>\n",
       "      <td>Unknown</td>\n",
       "    </tr>\n",
       "    <tr>\n",
       "      <th>...</th>\n",
       "      <td>...</td>\n",
       "      <td>...</td>\n",
       "      <td>...</td>\n",
       "      <td>...</td>\n",
       "      <td>...</td>\n",
       "      <td>...</td>\n",
       "      <td>...</td>\n",
       "      <td>...</td>\n",
       "      <td>...</td>\n",
       "      <td>...</td>\n",
       "      <td>...</td>\n",
       "      <td>...</td>\n",
       "    </tr>\n",
       "    <tr>\n",
       "      <th>1804</th>\n",
       "      <td>HopSkipDrive</td>\n",
       "      <td>Los Angeles</td>\n",
       "      <td>Transportation</td>\n",
       "      <td>8.0</td>\n",
       "      <td>0.10</td>\n",
       "      <td>2020-03-13</td>\n",
       "      <td>https://layoffs.fyi/2020/04/02/hopskipdrive-la...</td>\n",
       "      <td>45.0</td>\n",
       "      <td>Unknown</td>\n",
       "      <td>2020-04-03 04:47:03</td>\n",
       "      <td>United States</td>\n",
       "      <td>Unknown</td>\n",
       "    </tr>\n",
       "    <tr>\n",
       "      <th>1805</th>\n",
       "      <td>Panda Squad</td>\n",
       "      <td>SF Bay Area</td>\n",
       "      <td>Consumer</td>\n",
       "      <td>6.0</td>\n",
       "      <td>0.75</td>\n",
       "      <td>2020-03-13</td>\n",
       "      <td>https://twitter.com/danielsinger/status/123854...</td>\n",
       "      <td>1.0</td>\n",
       "      <td>Seed</td>\n",
       "      <td>2020-04-17 00:12:49</td>\n",
       "      <td>United States</td>\n",
       "      <td>Unknown</td>\n",
       "    </tr>\n",
       "    <tr>\n",
       "      <th>1806</th>\n",
       "      <td>Tamara Mellon</td>\n",
       "      <td>Los Angeles</td>\n",
       "      <td>Retail</td>\n",
       "      <td>20.0</td>\n",
       "      <td>0.40</td>\n",
       "      <td>2020-03-12</td>\n",
       "      <td>https://layoffs.fyi/list/tamara-mellon/</td>\n",
       "      <td>90.0</td>\n",
       "      <td>Series C</td>\n",
       "      <td>2020-03-31 16:04:23</td>\n",
       "      <td>United States</td>\n",
       "      <td>Unknown</td>\n",
       "    </tr>\n",
       "    <tr>\n",
       "      <th>1807</th>\n",
       "      <td>EasyPost</td>\n",
       "      <td>Salt Lake City</td>\n",
       "      <td>Logistics</td>\n",
       "      <td>75.0</td>\n",
       "      <td>NaN</td>\n",
       "      <td>2020-03-11</td>\n",
       "      <td>https://www.bizjournals.com/louisville/news/20...</td>\n",
       "      <td>12.0</td>\n",
       "      <td>Series A</td>\n",
       "      <td>2020-03-31 13:21:54</td>\n",
       "      <td>United States</td>\n",
       "      <td>Unknown</td>\n",
       "    </tr>\n",
       "    <tr>\n",
       "      <th>1808</th>\n",
       "      <td>Homebound</td>\n",
       "      <td>SF Bay Area</td>\n",
       "      <td>Real Estate</td>\n",
       "      <td>NaN</td>\n",
       "      <td>NaN</td>\n",
       "      <td>NaN</td>\n",
       "      <td>Internal memo</td>\n",
       "      <td>128.0</td>\n",
       "      <td>Unknown</td>\n",
       "      <td>2022-12-03 05:20:31</td>\n",
       "      <td>United States</td>\n",
       "      <td>https://docs.google.com/spreadsheets/d/1NzI8n_...</td>\n",
       "    </tr>\n",
       "  </tbody>\n",
       "</table>\n",
       "<p>1809 rows × 12 columns</p>\n",
       "</div>"
      ],
      "text/plain": [
       "            Company        Location        Industry  Laid_Off_Count  \\\n",
       "0             JD.ID         Jakarta          Retail           200.0   \n",
       "1         GoStudent          Vienna       Education           100.0   \n",
       "2           ChowNow     Los Angeles            Food            40.0   \n",
       "3           Landing      Birmingham     Real Estate             NaN   \n",
       "4         Thumbtack     SF Bay Area        Consumer           160.0   \n",
       "...             ...             ...             ...             ...   \n",
       "1804   HopSkipDrive     Los Angeles  Transportation             8.0   \n",
       "1805    Panda Squad     SF Bay Area        Consumer             6.0   \n",
       "1806  Tamara Mellon     Los Angeles          Retail            20.0   \n",
       "1807       EasyPost  Salt Lake City       Logistics            75.0   \n",
       "1808      Homebound     SF Bay Area     Real Estate             NaN   \n",
       "\n",
       "      Percentage        Date  \\\n",
       "0           0.30  2022-12-14   \n",
       "1            NaN  2022-12-14   \n",
       "2           0.10  2022-12-14   \n",
       "3            NaN  2022-12-14   \n",
       "4           0.14  2022-12-13   \n",
       "...          ...         ...   \n",
       "1804        0.10  2020-03-13   \n",
       "1805        0.75  2020-03-13   \n",
       "1806        0.40  2020-03-12   \n",
       "1807         NaN  2020-03-11   \n",
       "1808         NaN         NaN   \n",
       "\n",
       "                                                 Source  Funds_Raised  \\\n",
       "0     https://jakartaglobe.id/business/jdid-layoffs-...        5100.0   \n",
       "1     https://www.businessinsider.com/gostudent-3-bi...         686.0   \n",
       "2     https://www.restaurantbusinessonline.com/amp/t...          64.0   \n",
       "3     https://www.al.com/business/2022/12/birmingham...         347.0   \n",
       "4                                         Internal memo         698.0   \n",
       "...                                                 ...           ...   \n",
       "1804  https://layoffs.fyi/2020/04/02/hopskipdrive-la...          45.0   \n",
       "1805  https://twitter.com/danielsinger/status/123854...           1.0   \n",
       "1806            https://layoffs.fyi/list/tamara-mellon/          90.0   \n",
       "1807  https://www.bizjournals.com/louisville/news/20...          12.0   \n",
       "1808                                      Internal memo         128.0   \n",
       "\n",
       "         Stage           Date_Added        Country  \\\n",
       "0          IPO  2022-12-15 02:19:38      Indonesia   \n",
       "1     Series D  2022-12-15 02:11:42        Austria   \n",
       "2     Series C  2022-12-15 02:10:04  United States   \n",
       "3     Series C  2022-12-15 02:10:48  United States   \n",
       "4     Series I  2022-12-13 20:12:50  United States   \n",
       "...        ...                  ...            ...   \n",
       "1804   Unknown  2020-04-03 04:47:03  United States   \n",
       "1805      Seed  2020-04-17 00:12:49  United States   \n",
       "1806  Series C  2020-03-31 16:04:23  United States   \n",
       "1807  Series A  2020-03-31 13:21:54  United States   \n",
       "1808   Unknown  2022-12-03 05:20:31  United States   \n",
       "\n",
       "                             List_of_Employees_Laid_Off  \n",
       "0                                               Unknown  \n",
       "1                                               Unknown  \n",
       "2                                               Unknown  \n",
       "3                                               Unknown  \n",
       "4                                               Unknown  \n",
       "...                                                 ...  \n",
       "1804                                            Unknown  \n",
       "1805                                            Unknown  \n",
       "1806                                            Unknown  \n",
       "1807                                            Unknown  \n",
       "1808  https://docs.google.com/spreadsheets/d/1NzI8n_...  \n",
       "\n",
       "[1809 rows x 12 columns]"
      ]
     },
     "execution_count": 3,
     "metadata": {},
     "output_type": "execute_result"
    }
   ],
   "source": [
    "df = pd.read_csv('layoffs_data.csv')\n",
    "df"
   ]
  },
  {
   "cell_type": "markdown",
   "id": "fd900c8a",
   "metadata": {},
   "source": [
    "# Data Wrangling"
   ]
  },
  {
   "cell_type": "code",
   "execution_count": 4,
   "id": "fe69b1ef",
   "metadata": {},
   "outputs": [
    {
     "data": {
      "text/plain": [
       "(1809, 12)"
      ]
     },
     "execution_count": 4,
     "metadata": {},
     "output_type": "execute_result"
    }
   ],
   "source": [
    "df.shape"
   ]
  },
  {
   "cell_type": "code",
   "execution_count": 5,
   "id": "c36147c1",
   "metadata": {},
   "outputs": [
    {
     "data": {
      "text/plain": [
       "Index(['Company', 'Location', 'Industry', 'Laid_Off_Count', 'Percentage',\n",
       "       'Date', 'Source', 'Funds_Raised', 'Stage', 'Date_Added', 'Country',\n",
       "       'List_of_Employees_Laid_Off'],\n",
       "      dtype='object')"
      ]
     },
     "execution_count": 5,
     "metadata": {},
     "output_type": "execute_result"
    }
   ],
   "source": [
    "df.columns"
   ]
  },
  {
   "cell_type": "code",
   "execution_count": 6,
   "id": "356d0af3",
   "metadata": {},
   "outputs": [
    {
     "data": {
      "text/plain": [
       "Company                        object\n",
       "Location                       object\n",
       "Industry                       object\n",
       "Laid_Off_Count                float64\n",
       "Percentage                    float64\n",
       "Date                           object\n",
       "Source                         object\n",
       "Funds_Raised                  float64\n",
       "Stage                          object\n",
       "Date_Added                     object\n",
       "Country                        object\n",
       "List_of_Employees_Laid_Off     object\n",
       "dtype: object"
      ]
     },
     "execution_count": 6,
     "metadata": {},
     "output_type": "execute_result"
    }
   ],
   "source": [
    "df.dtypes"
   ]
  },
  {
   "cell_type": "code",
   "execution_count": 7,
   "id": "e2a95f76",
   "metadata": {},
   "outputs": [
    {
     "data": {
      "text/html": [
       "<div>\n",
       "<style scoped>\n",
       "    .dataframe tbody tr th:only-of-type {\n",
       "        vertical-align: middle;\n",
       "    }\n",
       "\n",
       "    .dataframe tbody tr th {\n",
       "        vertical-align: top;\n",
       "    }\n",
       "\n",
       "    .dataframe thead th {\n",
       "        text-align: right;\n",
       "    }\n",
       "</style>\n",
       "<table border=\"1\" class=\"dataframe\">\n",
       "  <thead>\n",
       "    <tr style=\"text-align: right;\">\n",
       "      <th></th>\n",
       "      <th>Laid_Off_Count</th>\n",
       "      <th>Percentage</th>\n",
       "      <th>Funds_Raised</th>\n",
       "    </tr>\n",
       "  </thead>\n",
       "  <tbody>\n",
       "    <tr>\n",
       "      <th>count</th>\n",
       "      <td>1270.000000</td>\n",
       "      <td>1221.000000</td>\n",
       "      <td>1675.000000</td>\n",
       "    </tr>\n",
       "    <tr>\n",
       "      <th>mean</th>\n",
       "      <td>194.895276</td>\n",
       "      <td>0.273557</td>\n",
       "      <td>853.953012</td>\n",
       "    </tr>\n",
       "    <tr>\n",
       "      <th>std</th>\n",
       "      <td>558.610850</td>\n",
       "      <td>0.264559</td>\n",
       "      <td>6258.625679</td>\n",
       "    </tr>\n",
       "    <tr>\n",
       "      <th>min</th>\n",
       "      <td>3.000000</td>\n",
       "      <td>0.000000</td>\n",
       "      <td>0.000000</td>\n",
       "    </tr>\n",
       "    <tr>\n",
       "      <th>25%</th>\n",
       "      <td>32.000000</td>\n",
       "      <td>0.100000</td>\n",
       "      <td>45.000000</td>\n",
       "    </tr>\n",
       "    <tr>\n",
       "      <th>50%</th>\n",
       "      <td>70.000000</td>\n",
       "      <td>0.180000</td>\n",
       "      <td>137.000000</td>\n",
       "    </tr>\n",
       "    <tr>\n",
       "      <th>75%</th>\n",
       "      <td>150.000000</td>\n",
       "      <td>0.320000</td>\n",
       "      <td>398.500000</td>\n",
       "    </tr>\n",
       "    <tr>\n",
       "      <th>max</th>\n",
       "      <td>11000.000000</td>\n",
       "      <td>1.000000</td>\n",
       "      <td>121900.000000</td>\n",
       "    </tr>\n",
       "  </tbody>\n",
       "</table>\n",
       "</div>"
      ],
      "text/plain": [
       "       Laid_Off_Count   Percentage   Funds_Raised\n",
       "count     1270.000000  1221.000000    1675.000000\n",
       "mean       194.895276     0.273557     853.953012\n",
       "std        558.610850     0.264559    6258.625679\n",
       "min          3.000000     0.000000       0.000000\n",
       "25%         32.000000     0.100000      45.000000\n",
       "50%         70.000000     0.180000     137.000000\n",
       "75%        150.000000     0.320000     398.500000\n",
       "max      11000.000000     1.000000  121900.000000"
      ]
     },
     "execution_count": 7,
     "metadata": {},
     "output_type": "execute_result"
    }
   ],
   "source": [
    "df.describe()"
   ]
  },
  {
   "cell_type": "code",
   "execution_count": 8,
   "id": "75fe9b72",
   "metadata": {},
   "outputs": [
    {
     "name": "stdout",
     "output_type": "stream",
     "text": [
      "<class 'pandas.core.frame.DataFrame'>\n",
      "RangeIndex: 1809 entries, 0 to 1808\n",
      "Data columns (total 12 columns):\n",
      " #   Column                      Non-Null Count  Dtype  \n",
      "---  ------                      --------------  -----  \n",
      " 0   Company                     1809 non-null   object \n",
      " 1   Location                    1809 non-null   object \n",
      " 2   Industry                    1809 non-null   object \n",
      " 3   Laid_Off_Count              1270 non-null   float64\n",
      " 4   Percentage                  1221 non-null   float64\n",
      " 5   Date                        1808 non-null   object \n",
      " 6   Source                      1809 non-null   object \n",
      " 7   Funds_Raised                1675 non-null   float64\n",
      " 8   Stage                       1809 non-null   object \n",
      " 9   Date_Added                  1809 non-null   object \n",
      " 10  Country                     1809 non-null   object \n",
      " 11  List_of_Employees_Laid_Off  1809 non-null   object \n",
      "dtypes: float64(3), object(9)\n",
      "memory usage: 169.7+ KB\n"
     ]
    }
   ],
   "source": [
    "df.info()"
   ]
  },
  {
   "cell_type": "code",
   "execution_count": 9,
   "id": "ab19c96e",
   "metadata": {},
   "outputs": [
    {
     "data": {
      "text/plain": [
       "array(['Retail', 'Education', 'Food', 'Real Estate', 'Consumer',\n",
       "       'Infrastructure', 'Healthcare', 'Sales', 'Product', 'Finance',\n",
       "       'Transportation', 'Other', 'Crypto', 'HR', 'Marketing', 'Security',\n",
       "       'Legal', 'Media', 'Unknown', 'Travel', 'Fitness', 'Support',\n",
       "       'Data', 'Recruiting', 'Energy', 'Logistics', 'Aerospace',\n",
       "       'Construction'], dtype=object)"
      ]
     },
     "execution_count": 9,
     "metadata": {},
     "output_type": "execute_result"
    }
   ],
   "source": [
    "df.Industry.unique()"
   ]
  },
  {
   "cell_type": "code",
   "execution_count": 10,
   "id": "b8f73781",
   "metadata": {},
   "outputs": [
    {
     "data": {
      "text/plain": [
       "array(['Indonesia', 'Austria', 'United States', 'Germany', 'India',\n",
       "       'Israel', 'Brazil', 'United Kingdom', 'Australia', 'Singapore',\n",
       "       'Argentina', 'Mexico', 'Nigeria', 'Netherlands', 'Canada',\n",
       "       'Switzerland', 'Egypt', 'Sweden', 'Ireland', 'Kenya', 'Luxembourg',\n",
       "       'China', 'Spain', 'Estonia', 'Chile', 'Greece', 'Poland',\n",
       "       'Seychelles', 'Norway', 'Belgium', 'Denmark', 'Hong Kong',\n",
       "       'New Zealand', 'Malaysia', 'Hungary', 'Vietnam', 'Thailand',\n",
       "       'Romania', 'Lithuania', 'Senegal', 'Pakistan',\n",
       "       'United Arab Emirates', 'Colombia', 'Finland', 'Peru', 'Bahrain',\n",
       "       'Turkey', 'Russia', 'Uruguay', 'Bulgaria', 'France', 'Portugal',\n",
       "       'South Africa', 'Czech Republic', 'Myanmar'], dtype=object)"
      ]
     },
     "execution_count": 10,
     "metadata": {},
     "output_type": "execute_result"
    }
   ],
   "source": [
    "df.Country.unique()"
   ]
  },
  {
   "cell_type": "markdown",
   "id": "fb9fed05",
   "metadata": {},
   "source": [
    "# Data cleaning"
   ]
  },
  {
   "cell_type": "code",
   "execution_count": 17,
   "id": "78893775",
   "metadata": {},
   "outputs": [
    {
     "ename": "KeyError",
     "evalue": "\"['Source' 'Funds_Raised' 'Stage' 'Date_Added' 'List_of_Employees_Laid_Off'] not found in axis\"",
     "output_type": "error",
     "traceback": [
      "\u001b[1;31m---------------------------------------------------------------------------\u001b[0m",
      "\u001b[1;31mKeyError\u001b[0m                                  Traceback (most recent call last)",
      "\u001b[1;32mC:\\Users\\TARUNB~1\\AppData\\Local\\Temp/ipykernel_11656/3519730203.py\u001b[0m in \u001b[0;36m<module>\u001b[1;34m\u001b[0m\n\u001b[1;32m----> 1\u001b[1;33m \u001b[0mdf\u001b[0m\u001b[1;33m.\u001b[0m\u001b[0mdrop\u001b[0m\u001b[1;33m(\u001b[0m\u001b[1;33m[\u001b[0m\u001b[1;34m'Source'\u001b[0m\u001b[1;33m,\u001b[0m \u001b[1;34m'Funds_Raised'\u001b[0m\u001b[1;33m,\u001b[0m \u001b[1;34m'Stage'\u001b[0m\u001b[1;33m,\u001b[0m \u001b[1;34m'Date_Added'\u001b[0m\u001b[1;33m,\u001b[0m\u001b[1;34m'List_of_Employees_Laid_Off'\u001b[0m\u001b[1;33m]\u001b[0m\u001b[1;33m,\u001b[0m \u001b[0maxis\u001b[0m\u001b[1;33m=\u001b[0m\u001b[1;36m1\u001b[0m\u001b[1;33m,\u001b[0m \u001b[0minplace\u001b[0m\u001b[1;33m=\u001b[0m\u001b[1;32mTrue\u001b[0m\u001b[1;33m)\u001b[0m\u001b[1;33m\u001b[0m\u001b[1;33m\u001b[0m\u001b[0m\n\u001b[0m",
      "\u001b[1;32m~\\anaconda3\\lib\\site-packages\\pandas\\util\\_decorators.py\u001b[0m in \u001b[0;36mwrapper\u001b[1;34m(*args, **kwargs)\u001b[0m\n\u001b[0;32m    309\u001b[0m                     \u001b[0mstacklevel\u001b[0m\u001b[1;33m=\u001b[0m\u001b[0mstacklevel\u001b[0m\u001b[1;33m,\u001b[0m\u001b[1;33m\u001b[0m\u001b[1;33m\u001b[0m\u001b[0m\n\u001b[0;32m    310\u001b[0m                 )\n\u001b[1;32m--> 311\u001b[1;33m             \u001b[1;32mreturn\u001b[0m \u001b[0mfunc\u001b[0m\u001b[1;33m(\u001b[0m\u001b[1;33m*\u001b[0m\u001b[0margs\u001b[0m\u001b[1;33m,\u001b[0m \u001b[1;33m**\u001b[0m\u001b[0mkwargs\u001b[0m\u001b[1;33m)\u001b[0m\u001b[1;33m\u001b[0m\u001b[1;33m\u001b[0m\u001b[0m\n\u001b[0m\u001b[0;32m    312\u001b[0m \u001b[1;33m\u001b[0m\u001b[0m\n\u001b[0;32m    313\u001b[0m         \u001b[1;32mreturn\u001b[0m \u001b[0mwrapper\u001b[0m\u001b[1;33m\u001b[0m\u001b[1;33m\u001b[0m\u001b[0m\n",
      "\u001b[1;32m~\\anaconda3\\lib\\site-packages\\pandas\\core\\frame.py\u001b[0m in \u001b[0;36mdrop\u001b[1;34m(self, labels, axis, index, columns, level, inplace, errors)\u001b[0m\n\u001b[0;32m   4904\u001b[0m                 \u001b[0mweight\u001b[0m  \u001b[1;36m1.0\u001b[0m     \u001b[1;36m0.8\u001b[0m\u001b[1;33m\u001b[0m\u001b[1;33m\u001b[0m\u001b[0m\n\u001b[0;32m   4905\u001b[0m         \"\"\"\n\u001b[1;32m-> 4906\u001b[1;33m         return super().drop(\n\u001b[0m\u001b[0;32m   4907\u001b[0m             \u001b[0mlabels\u001b[0m\u001b[1;33m=\u001b[0m\u001b[0mlabels\u001b[0m\u001b[1;33m,\u001b[0m\u001b[1;33m\u001b[0m\u001b[1;33m\u001b[0m\u001b[0m\n\u001b[0;32m   4908\u001b[0m             \u001b[0maxis\u001b[0m\u001b[1;33m=\u001b[0m\u001b[0maxis\u001b[0m\u001b[1;33m,\u001b[0m\u001b[1;33m\u001b[0m\u001b[1;33m\u001b[0m\u001b[0m\n",
      "\u001b[1;32m~\\anaconda3\\lib\\site-packages\\pandas\\core\\generic.py\u001b[0m in \u001b[0;36mdrop\u001b[1;34m(self, labels, axis, index, columns, level, inplace, errors)\u001b[0m\n\u001b[0;32m   4148\u001b[0m         \u001b[1;32mfor\u001b[0m \u001b[0maxis\u001b[0m\u001b[1;33m,\u001b[0m \u001b[0mlabels\u001b[0m \u001b[1;32min\u001b[0m \u001b[0maxes\u001b[0m\u001b[1;33m.\u001b[0m\u001b[0mitems\u001b[0m\u001b[1;33m(\u001b[0m\u001b[1;33m)\u001b[0m\u001b[1;33m:\u001b[0m\u001b[1;33m\u001b[0m\u001b[1;33m\u001b[0m\u001b[0m\n\u001b[0;32m   4149\u001b[0m             \u001b[1;32mif\u001b[0m \u001b[0mlabels\u001b[0m \u001b[1;32mis\u001b[0m \u001b[1;32mnot\u001b[0m \u001b[1;32mNone\u001b[0m\u001b[1;33m:\u001b[0m\u001b[1;33m\u001b[0m\u001b[1;33m\u001b[0m\u001b[0m\n\u001b[1;32m-> 4150\u001b[1;33m                 \u001b[0mobj\u001b[0m \u001b[1;33m=\u001b[0m \u001b[0mobj\u001b[0m\u001b[1;33m.\u001b[0m\u001b[0m_drop_axis\u001b[0m\u001b[1;33m(\u001b[0m\u001b[0mlabels\u001b[0m\u001b[1;33m,\u001b[0m \u001b[0maxis\u001b[0m\u001b[1;33m,\u001b[0m \u001b[0mlevel\u001b[0m\u001b[1;33m=\u001b[0m\u001b[0mlevel\u001b[0m\u001b[1;33m,\u001b[0m \u001b[0merrors\u001b[0m\u001b[1;33m=\u001b[0m\u001b[0merrors\u001b[0m\u001b[1;33m)\u001b[0m\u001b[1;33m\u001b[0m\u001b[1;33m\u001b[0m\u001b[0m\n\u001b[0m\u001b[0;32m   4151\u001b[0m \u001b[1;33m\u001b[0m\u001b[0m\n\u001b[0;32m   4152\u001b[0m         \u001b[1;32mif\u001b[0m \u001b[0minplace\u001b[0m\u001b[1;33m:\u001b[0m\u001b[1;33m\u001b[0m\u001b[1;33m\u001b[0m\u001b[0m\n",
      "\u001b[1;32m~\\anaconda3\\lib\\site-packages\\pandas\\core\\generic.py\u001b[0m in \u001b[0;36m_drop_axis\u001b[1;34m(self, labels, axis, level, errors)\u001b[0m\n\u001b[0;32m   4183\u001b[0m                 \u001b[0mnew_axis\u001b[0m \u001b[1;33m=\u001b[0m \u001b[0maxis\u001b[0m\u001b[1;33m.\u001b[0m\u001b[0mdrop\u001b[0m\u001b[1;33m(\u001b[0m\u001b[0mlabels\u001b[0m\u001b[1;33m,\u001b[0m \u001b[0mlevel\u001b[0m\u001b[1;33m=\u001b[0m\u001b[0mlevel\u001b[0m\u001b[1;33m,\u001b[0m \u001b[0merrors\u001b[0m\u001b[1;33m=\u001b[0m\u001b[0merrors\u001b[0m\u001b[1;33m)\u001b[0m\u001b[1;33m\u001b[0m\u001b[1;33m\u001b[0m\u001b[0m\n\u001b[0;32m   4184\u001b[0m             \u001b[1;32melse\u001b[0m\u001b[1;33m:\u001b[0m\u001b[1;33m\u001b[0m\u001b[1;33m\u001b[0m\u001b[0m\n\u001b[1;32m-> 4185\u001b[1;33m                 \u001b[0mnew_axis\u001b[0m \u001b[1;33m=\u001b[0m \u001b[0maxis\u001b[0m\u001b[1;33m.\u001b[0m\u001b[0mdrop\u001b[0m\u001b[1;33m(\u001b[0m\u001b[0mlabels\u001b[0m\u001b[1;33m,\u001b[0m \u001b[0merrors\u001b[0m\u001b[1;33m=\u001b[0m\u001b[0merrors\u001b[0m\u001b[1;33m)\u001b[0m\u001b[1;33m\u001b[0m\u001b[1;33m\u001b[0m\u001b[0m\n\u001b[0m\u001b[0;32m   4186\u001b[0m             \u001b[0mresult\u001b[0m \u001b[1;33m=\u001b[0m \u001b[0mself\u001b[0m\u001b[1;33m.\u001b[0m\u001b[0mreindex\u001b[0m\u001b[1;33m(\u001b[0m\u001b[1;33m**\u001b[0m\u001b[1;33m{\u001b[0m\u001b[0maxis_name\u001b[0m\u001b[1;33m:\u001b[0m \u001b[0mnew_axis\u001b[0m\u001b[1;33m}\u001b[0m\u001b[1;33m)\u001b[0m\u001b[1;33m\u001b[0m\u001b[1;33m\u001b[0m\u001b[0m\n\u001b[0;32m   4187\u001b[0m \u001b[1;33m\u001b[0m\u001b[0m\n",
      "\u001b[1;32m~\\anaconda3\\lib\\site-packages\\pandas\\core\\indexes\\base.py\u001b[0m in \u001b[0;36mdrop\u001b[1;34m(self, labels, errors)\u001b[0m\n\u001b[0;32m   6015\u001b[0m         \u001b[1;32mif\u001b[0m \u001b[0mmask\u001b[0m\u001b[1;33m.\u001b[0m\u001b[0many\u001b[0m\u001b[1;33m(\u001b[0m\u001b[1;33m)\u001b[0m\u001b[1;33m:\u001b[0m\u001b[1;33m\u001b[0m\u001b[1;33m\u001b[0m\u001b[0m\n\u001b[0;32m   6016\u001b[0m             \u001b[1;32mif\u001b[0m \u001b[0merrors\u001b[0m \u001b[1;33m!=\u001b[0m \u001b[1;34m\"ignore\"\u001b[0m\u001b[1;33m:\u001b[0m\u001b[1;33m\u001b[0m\u001b[1;33m\u001b[0m\u001b[0m\n\u001b[1;32m-> 6017\u001b[1;33m                 \u001b[1;32mraise\u001b[0m \u001b[0mKeyError\u001b[0m\u001b[1;33m(\u001b[0m\u001b[1;34mf\"{labels[mask]} not found in axis\"\u001b[0m\u001b[1;33m)\u001b[0m\u001b[1;33m\u001b[0m\u001b[1;33m\u001b[0m\u001b[0m\n\u001b[0m\u001b[0;32m   6018\u001b[0m             \u001b[0mindexer\u001b[0m \u001b[1;33m=\u001b[0m \u001b[0mindexer\u001b[0m\u001b[1;33m[\u001b[0m\u001b[1;33m~\u001b[0m\u001b[0mmask\u001b[0m\u001b[1;33m]\u001b[0m\u001b[1;33m\u001b[0m\u001b[1;33m\u001b[0m\u001b[0m\n\u001b[0;32m   6019\u001b[0m         \u001b[1;32mreturn\u001b[0m \u001b[0mself\u001b[0m\u001b[1;33m.\u001b[0m\u001b[0mdelete\u001b[0m\u001b[1;33m(\u001b[0m\u001b[0mindexer\u001b[0m\u001b[1;33m)\u001b[0m\u001b[1;33m\u001b[0m\u001b[1;33m\u001b[0m\u001b[0m\n",
      "\u001b[1;31mKeyError\u001b[0m: \"['Source' 'Funds_Raised' 'Stage' 'Date_Added' 'List_of_Employees_Laid_Off'] not found in axis\""
     ]
    }
   ],
   "source": [
    "df.drop(['Source', 'Funds_Raised', 'Stage', 'Date_Added','List_of_Employees_Laid_Off'], axis=1, inplace=True)"
   ]
  },
  {
   "cell_type": "code",
   "execution_count": 18,
   "id": "a479e427",
   "metadata": {},
   "outputs": [
    {
     "data": {
      "text/html": [
       "<div>\n",
       "<style scoped>\n",
       "    .dataframe tbody tr th:only-of-type {\n",
       "        vertical-align: middle;\n",
       "    }\n",
       "\n",
       "    .dataframe tbody tr th {\n",
       "        vertical-align: top;\n",
       "    }\n",
       "\n",
       "    .dataframe thead th {\n",
       "        text-align: right;\n",
       "    }\n",
       "</style>\n",
       "<table border=\"1\" class=\"dataframe\">\n",
       "  <thead>\n",
       "    <tr style=\"text-align: right;\">\n",
       "      <th></th>\n",
       "      <th>Company</th>\n",
       "      <th>Location</th>\n",
       "      <th>Industry</th>\n",
       "      <th>Laid_Off_Count</th>\n",
       "      <th>Percentage</th>\n",
       "      <th>Date</th>\n",
       "      <th>Country</th>\n",
       "    </tr>\n",
       "  </thead>\n",
       "  <tbody>\n",
       "    <tr>\n",
       "      <th>0</th>\n",
       "      <td>JD.ID</td>\n",
       "      <td>Jakarta</td>\n",
       "      <td>Retail</td>\n",
       "      <td>200.0</td>\n",
       "      <td>0.30</td>\n",
       "      <td>2022-12-14</td>\n",
       "      <td>Indonesia</td>\n",
       "    </tr>\n",
       "    <tr>\n",
       "      <th>1</th>\n",
       "      <td>GoStudent</td>\n",
       "      <td>Vienna</td>\n",
       "      <td>Education</td>\n",
       "      <td>100.0</td>\n",
       "      <td>NaN</td>\n",
       "      <td>2022-12-14</td>\n",
       "      <td>Austria</td>\n",
       "    </tr>\n",
       "    <tr>\n",
       "      <th>2</th>\n",
       "      <td>ChowNow</td>\n",
       "      <td>Los Angeles</td>\n",
       "      <td>Food</td>\n",
       "      <td>40.0</td>\n",
       "      <td>0.10</td>\n",
       "      <td>2022-12-14</td>\n",
       "      <td>United States</td>\n",
       "    </tr>\n",
       "    <tr>\n",
       "      <th>3</th>\n",
       "      <td>Landing</td>\n",
       "      <td>Birmingham</td>\n",
       "      <td>Real Estate</td>\n",
       "      <td>NaN</td>\n",
       "      <td>NaN</td>\n",
       "      <td>2022-12-14</td>\n",
       "      <td>United States</td>\n",
       "    </tr>\n",
       "    <tr>\n",
       "      <th>4</th>\n",
       "      <td>Thumbtack</td>\n",
       "      <td>SF Bay Area</td>\n",
       "      <td>Consumer</td>\n",
       "      <td>160.0</td>\n",
       "      <td>0.14</td>\n",
       "      <td>2022-12-13</td>\n",
       "      <td>United States</td>\n",
       "    </tr>\n",
       "  </tbody>\n",
       "</table>\n",
       "</div>"
      ],
      "text/plain": [
       "     Company     Location     Industry  Laid_Off_Count  Percentage  \\\n",
       "0      JD.ID      Jakarta       Retail           200.0        0.30   \n",
       "1  GoStudent       Vienna    Education           100.0         NaN   \n",
       "2    ChowNow  Los Angeles         Food            40.0        0.10   \n",
       "3    Landing   Birmingham  Real Estate             NaN         NaN   \n",
       "4  Thumbtack  SF Bay Area     Consumer           160.0        0.14   \n",
       "\n",
       "         Date        Country  \n",
       "0  2022-12-14      Indonesia  \n",
       "1  2022-12-14        Austria  \n",
       "2  2022-12-14  United States  \n",
       "3  2022-12-14  United States  \n",
       "4  2022-12-13  United States  "
      ]
     },
     "execution_count": 18,
     "metadata": {},
     "output_type": "execute_result"
    }
   ],
   "source": [
    "df.head()"
   ]
  },
  {
   "cell_type": "code",
   "execution_count": 19,
   "id": "317bc03a",
   "metadata": {},
   "outputs": [
    {
     "data": {
      "text/html": [
       "<div>\n",
       "<style scoped>\n",
       "    .dataframe tbody tr th:only-of-type {\n",
       "        vertical-align: middle;\n",
       "    }\n",
       "\n",
       "    .dataframe tbody tr th {\n",
       "        vertical-align: top;\n",
       "    }\n",
       "\n",
       "    .dataframe thead th {\n",
       "        text-align: right;\n",
       "    }\n",
       "</style>\n",
       "<table border=\"1\" class=\"dataframe\">\n",
       "  <thead>\n",
       "    <tr style=\"text-align: right;\">\n",
       "      <th></th>\n",
       "      <th>Company</th>\n",
       "      <th>Location</th>\n",
       "      <th>Industry</th>\n",
       "      <th>Laid_Off_Count</th>\n",
       "      <th>Percentage</th>\n",
       "      <th>Date</th>\n",
       "      <th>Country</th>\n",
       "      <th>month</th>\n",
       "      <th>day</th>\n",
       "      <th>year</th>\n",
       "    </tr>\n",
       "  </thead>\n",
       "  <tbody>\n",
       "    <tr>\n",
       "      <th>0</th>\n",
       "      <td>JD.ID</td>\n",
       "      <td>Jakarta</td>\n",
       "      <td>Retail</td>\n",
       "      <td>200.0</td>\n",
       "      <td>0.30</td>\n",
       "      <td>2022-12-14</td>\n",
       "      <td>Indonesia</td>\n",
       "      <td>12.0</td>\n",
       "      <td>Wednesday</td>\n",
       "      <td>2022.0</td>\n",
       "    </tr>\n",
       "    <tr>\n",
       "      <th>1</th>\n",
       "      <td>GoStudent</td>\n",
       "      <td>Vienna</td>\n",
       "      <td>Education</td>\n",
       "      <td>100.0</td>\n",
       "      <td>NaN</td>\n",
       "      <td>2022-12-14</td>\n",
       "      <td>Austria</td>\n",
       "      <td>12.0</td>\n",
       "      <td>Wednesday</td>\n",
       "      <td>2022.0</td>\n",
       "    </tr>\n",
       "    <tr>\n",
       "      <th>2</th>\n",
       "      <td>ChowNow</td>\n",
       "      <td>Los Angeles</td>\n",
       "      <td>Food</td>\n",
       "      <td>40.0</td>\n",
       "      <td>0.10</td>\n",
       "      <td>2022-12-14</td>\n",
       "      <td>United States</td>\n",
       "      <td>12.0</td>\n",
       "      <td>Wednesday</td>\n",
       "      <td>2022.0</td>\n",
       "    </tr>\n",
       "    <tr>\n",
       "      <th>3</th>\n",
       "      <td>Landing</td>\n",
       "      <td>Birmingham</td>\n",
       "      <td>Real Estate</td>\n",
       "      <td>NaN</td>\n",
       "      <td>NaN</td>\n",
       "      <td>2022-12-14</td>\n",
       "      <td>United States</td>\n",
       "      <td>12.0</td>\n",
       "      <td>Wednesday</td>\n",
       "      <td>2022.0</td>\n",
       "    </tr>\n",
       "    <tr>\n",
       "      <th>4</th>\n",
       "      <td>Thumbtack</td>\n",
       "      <td>SF Bay Area</td>\n",
       "      <td>Consumer</td>\n",
       "      <td>160.0</td>\n",
       "      <td>0.14</td>\n",
       "      <td>2022-12-13</td>\n",
       "      <td>United States</td>\n",
       "      <td>12.0</td>\n",
       "      <td>Tuesday</td>\n",
       "      <td>2022.0</td>\n",
       "    </tr>\n",
       "  </tbody>\n",
       "</table>\n",
       "</div>"
      ],
      "text/plain": [
       "     Company     Location     Industry  Laid_Off_Count  Percentage       Date  \\\n",
       "0      JD.ID      Jakarta       Retail           200.0        0.30 2022-12-14   \n",
       "1  GoStudent       Vienna    Education           100.0         NaN 2022-12-14   \n",
       "2    ChowNow  Los Angeles         Food            40.0        0.10 2022-12-14   \n",
       "3    Landing   Birmingham  Real Estate             NaN         NaN 2022-12-14   \n",
       "4  Thumbtack  SF Bay Area     Consumer           160.0        0.14 2022-12-13   \n",
       "\n",
       "         Country  month        day    year  \n",
       "0      Indonesia   12.0  Wednesday  2022.0  \n",
       "1        Austria   12.0  Wednesday  2022.0  \n",
       "2  United States   12.0  Wednesday  2022.0  \n",
       "3  United States   12.0  Wednesday  2022.0  \n",
       "4  United States   12.0    Tuesday  2022.0  "
      ]
     },
     "execution_count": 19,
     "metadata": {},
     "output_type": "execute_result"
    }
   ],
   "source": [
    "df['Date'] = pd.to_datetime(df['Date'])\n",
    "df['month'] = df['Date'].dt.month\n",
    "df['day'] = df['Date'].dt.day_name()\n",
    "df['year'] = df['Date'].dt.year\n",
    "df.head()"
   ]
  },
  {
   "cell_type": "markdown",
   "id": "40054fe0",
   "metadata": {},
   "source": [
    "# Data visualization"
   ]
  },
  {
   "cell_type": "code",
   "execution_count": 20,
   "id": "23f525fc",
   "metadata": {},
   "outputs": [
    {
     "data": {
      "text/plain": [
       "year\n",
       "2020.0     80968.0\n",
       "2021.0     15023.0\n",
       "2022.0    151526.0\n",
       "Name: Laid_Off_Count, dtype: float64"
      ]
     },
     "execution_count": 20,
     "metadata": {},
     "output_type": "execute_result"
    }
   ],
   "source": [
    "Y = df.groupby('year')['Laid_Off_Count'].sum()\n",
    "Y"
   ]
  },
  {
   "cell_type": "code",
   "execution_count": 21,
   "id": "2783154e",
   "metadata": {},
   "outputs": [
    {
     "data": {
      "text/plain": [
       "Text(0, 0.5, 'Count of Layoffs')"
      ]
     },
     "execution_count": 21,
     "metadata": {},
     "output_type": "execute_result"
    },
    {
     "data": {
      "image/png": "[encoded data removed]",
      "text/plain": [
       "<Figure size 432x288 with 1 Axes>"
      ]
     },
     "metadata": {
      "needs_background": "light"
     },
     "output_type": "display_data"
    }
   ],
   "source": [
    "Y.plot(kind='bar',fontsize=12)\n",
    "plt.title(\"Yearwise Layoff counts\")\n",
    "plt.xlabel(\"Year\")\n",
    "plt.ylabel(\"Count of Layoffs\")"
   ]
  },
  {
   "cell_type": "code",
   "execution_count": 29,
   "id": "a316f02b",
   "metadata": {},
   "outputs": [
    {
     "data": {
      "image/png": "[encoded data removed]",
      "text/plain": [
       "<Figure size 432x288 with 1 Axes>"
      ]
     },
     "metadata": {},
     "output_type": "display_data"
    }
   ],
   "source": [
    "plt.pie(Y, startangle=90, autopct='%1.1f%%')\n",
    "plt.title(\"Layoffs by year\")\n",
    "plt.show()"
   ]
  },
  {
   "cell_type": "code",
   "execution_count": 32,
   "id": "8ce43530",
   "metadata": {},
   "outputs": [
    {
     "data": {
      "text/plain": [
       "Country\n",
       "United States           162533.0\n",
       "India                    31236.0\n",
       "Brazil                    8110.0\n",
       "Singapore                 5801.0\n",
       "Canada                    5199.0\n",
       "Netherlands               5070.0\n",
       "United Kingdom            4870.0\n",
       "China                     4430.0\n",
       "Germany                   4283.0\n",
       "Indonesia                 3161.0\n",
       "Israel                    2938.0\n",
       "Sweden                    2014.0\n",
       "Australia                 1215.0\n",
       "United Arab Emirates       995.0\n",
       "Hong Kong                  730.0\n",
       "Austria                    570.0\n",
       "Nigeria                    491.0\n",
       "Russia                     400.0\n",
       "Kenya                      349.0\n",
       "Argentina                  323.0\n",
       "Senegal                    300.0\n",
       "Mexico                     270.0\n",
       "Estonia                    267.0\n",
       "Finland                    250.0\n",
       "Denmark                    240.0\n",
       "Ireland                    230.0\n",
       "Myanmar                    200.0\n",
       "Norway                     140.0\n",
       "Romania                    140.0\n",
       "Bulgaria                   120.0\n",
       "Portugal                   115.0\n",
       "Malaysia                   100.0\n",
       "Seychelles                  75.0\n",
       "Switzerland                 62.0\n",
       "Lithuania                   60.0\n",
       "Thailand                    55.0\n",
       "Luxembourg                  45.0\n",
       "New Zealand                 45.0\n",
       "Chile                       30.0\n",
       "Colombia                    30.0\n",
       "Poland                      25.0\n",
       "Czech Republic               0.0\n",
       "Uruguay                      0.0\n",
       "Bahrain                      0.0\n",
       "Belgium                      0.0\n",
       "Turkey                       0.0\n",
       "Egypt                        0.0\n",
       "Peru                         0.0\n",
       "Spain                        0.0\n",
       "South Africa                 0.0\n",
       "France                       0.0\n",
       "Greece                       0.0\n",
       "Hungary                      0.0\n",
       "Pakistan                     0.0\n",
       "Vietnam                      0.0\n",
       "Name: Laid_Off_Count, dtype: float64"
      ]
     },
     "execution_count": 32,
     "metadata": {},
     "output_type": "execute_result"
    }
   ],
   "source": [
    "C = df.groupby('Country')['Laid_Off_Count'].sum().sort_values(ascending = False)\n",
    "C"
   ]
  },
  {
   "cell_type": "code",
   "execution_count": 34,
   "id": "45441404",
   "metadata": {},
   "outputs": [
    {
     "data": {
      "text/plain": [
       "Text(0, 0.5, 'Count of Layoffs')"
      ]
     },
     "execution_count": 34,
     "metadata": {},
     "output_type": "execute_result"
    },
    {
     "data": {
      "image/png": "[encoded data removed]",
      "text/plain": [
       "<Figure size 1440x576 with 1 Axes>"
      ]
     },
     "metadata": {
      "needs_background": "light"
     },
     "output_type": "display_data"
    }
   ],
   "source": [
    "C.plot(kind='bar',fontsize=12, figsize=(20,8))\n",
    "plt.title(\"Country wise Layoff counts\")\n",
    "plt.xlabel(\"Country\")\n",
    "plt.ylabel(\"Count of Layoffs\")"
   ]
  },
  {
   "cell_type": "code",
   "execution_count": 38,
   "id": "adc70158",
   "metadata": {},
   "outputs": [
    {
     "data": {
      "text/plain": [
       "Text(0, 0.5, 'Count of Layoffs')"
      ]
     },
     "execution_count": 38,
     "metadata": {},
     "output_type": "execute_result"
    },
    {
     "data": {
      "image/png": "[encoded data removed]",
      "text/plain": [
       "<Figure size 1440x576 with 1 Axes>"
      ]
     },
     "metadata": {
      "needs_background": "light"
     },
     "output_type": "display_data"
    }
   ],
   "source": [
    "I = df.groupby('Industry')['Laid_Off_Count'].sum().sort_values(ascending = False)\n",
    "I.plot(kind ='bar',fontsize=12, figsize=(20,8))\n",
    "plt.title(\"Industry wise Layoff counts\")\n",
    "plt.xlabel(\"Industry\")\n",
    "plt.ylabel(\"Count of Layoffs\")"
   ]
  },
  {
   "cell_type": "code",
   "execution_count": 35,
   "id": "51c2a7ee",
   "metadata": {},
   "outputs": [
    {
     "data": {
      "text/plain": [
       "Industry\n",
       "Aerospace         0.565\n",
       "Travel            0.368\n",
       "Education         0.353\n",
       "Food              0.343\n",
       "Fitness           0.330\n",
       "Recruiting        0.323\n",
       "Real Estate       0.319\n",
       "Infrastructure    0.306\n",
       "Legal             0.305\n",
       "Retail            0.302\n",
       "Crypto            0.297\n",
       "Consumer          0.286\n",
       "Product           0.285\n",
       "Healthcare        0.280\n",
       "Construction      0.273\n",
       "HR                0.270\n",
       "Support           0.265\n",
       "Media             0.253\n",
       "Other             0.252\n",
       "Finance           0.249\n",
       "Transportation    0.228\n",
       "Energy            0.225\n",
       "Unknown           0.222\n",
       "Data              0.215\n",
       "Marketing         0.209\n",
       "Logistics         0.200\n",
       "Security          0.176\n",
       "Sales             0.106\n",
       "Name: Percentage, dtype: float64"
      ]
     },
     "execution_count": 35,
     "metadata": {},
     "output_type": "execute_result"
    }
   ],
   "source": [
    "df.groupby('Industry')['Percentage'].mean().sort_values(ascending=False).round(3)"
   ]
  },
  {
   "cell_type": "code",
   "execution_count": 36,
   "id": "ed2d0610",
   "metadata": {},
   "outputs": [
    {
     "data": {
      "text/plain": [
       "month\n",
       "3.0      9628.0\n",
       "4.0     26710.0\n",
       "5.0     25804.0\n",
       "6.0      7627.0\n",
       "7.0      7112.0\n",
       "8.0      1969.0\n",
       "9.0       609.0\n",
       "10.0      450.0\n",
       "11.0      207.0\n",
       "12.0      852.0\n",
       "Name: Laid_Off_Count, dtype: float64"
      ]
     },
     "execution_count": 36,
     "metadata": {},
     "output_type": "execute_result"
    }
   ],
   "source": [
    "df20 = df.query('year==2020')\n",
    "df1 = df20.groupby('month')['Laid_Off_Count'].sum()\n",
    "df1"
   ]
  },
  {
   "cell_type": "code",
   "execution_count": 37,
   "id": "c0606b70",
   "metadata": {},
   "outputs": [
    {
     "data": {
      "text/plain": [
       "month\n",
       "1.0     6013.0\n",
       "2.0      868.0\n",
       "3.0       47.0\n",
       "4.0      261.0\n",
       "5.0        0.0\n",
       "6.0     2434.0\n",
       "7.0       80.0\n",
       "8.0     1867.0\n",
       "9.0      161.0\n",
       "10.0      22.0\n",
       "11.0    2070.0\n",
       "12.0    1200.0\n",
       "Name: Laid_Off_Count, dtype: float64"
      ]
     },
     "execution_count": 37,
     "metadata": {},
     "output_type": "execute_result"
    }
   ],
   "source": [
    "df21 = df.query('year==2021')\n",
    "df2 = df21.groupby('month')['Laid_Off_Count'].sum()\n",
    "df2"
   ]
  },
  {
   "cell_type": "code",
   "execution_count": 38,
   "id": "ef30863b",
   "metadata": {},
   "outputs": [
    {
     "data": {
      "text/plain": [
       "month\n",
       "1.0       510.0\n",
       "2.0      3625.0\n",
       "3.0      5694.0\n",
       "4.0      4064.0\n",
       "5.0     12535.0\n",
       "6.0     17584.0\n",
       "7.0     16223.0\n",
       "8.0     13095.0\n",
       "9.0      5881.0\n",
       "10.0    12856.0\n",
       "11.0    51489.0\n",
       "12.0     7970.0\n",
       "Name: Laid_Off_Count, dtype: float64"
      ]
     },
     "execution_count": 38,
     "metadata": {},
     "output_type": "execute_result"
    }
   ],
   "source": [
    "df22 = df.query('year==2022')\n",
    "df3 = df22.groupby('month')['Laid_Off_Count'].sum()\n",
    "df3"
   ]
  },
  {
   "cell_type": "code",
   "execution_count": 39,
   "id": "9596fadb",
   "metadata": {},
   "outputs": [
    {
     "data": {
      "text/html": [
       "<div>\n",
       "<style scoped>\n",
       "    .dataframe tbody tr th:only-of-type {\n",
       "        vertical-align: middle;\n",
       "    }\n",
       "\n",
       "    .dataframe tbody tr th {\n",
       "        vertical-align: top;\n",
       "    }\n",
       "\n",
       "    .dataframe thead th {\n",
       "        text-align: right;\n",
       "    }\n",
       "</style>\n",
       "<table border=\"1\" class=\"dataframe\">\n",
       "  <thead>\n",
       "    <tr style=\"text-align: right;\">\n",
       "      <th></th>\n",
       "      <th>Laid_Off_Count</th>\n",
       "      <th>Laid_Off_Count</th>\n",
       "      <th>Laid_Off_Count</th>\n",
       "    </tr>\n",
       "    <tr>\n",
       "      <th>month</th>\n",
       "      <th></th>\n",
       "      <th></th>\n",
       "      <th></th>\n",
       "    </tr>\n",
       "  </thead>\n",
       "  <tbody>\n",
       "    <tr>\n",
       "      <th>1.0</th>\n",
       "      <td>NaN</td>\n",
       "      <td>6013.0</td>\n",
       "      <td>510.0</td>\n",
       "    </tr>\n",
       "    <tr>\n",
       "      <th>2.0</th>\n",
       "      <td>NaN</td>\n",
       "      <td>868.0</td>\n",
       "      <td>3625.0</td>\n",
       "    </tr>\n",
       "    <tr>\n",
       "      <th>3.0</th>\n",
       "      <td>9628.0</td>\n",
       "      <td>47.0</td>\n",
       "      <td>5694.0</td>\n",
       "    </tr>\n",
       "    <tr>\n",
       "      <th>4.0</th>\n",
       "      <td>26710.0</td>\n",
       "      <td>261.0</td>\n",
       "      <td>4064.0</td>\n",
       "    </tr>\n",
       "    <tr>\n",
       "      <th>5.0</th>\n",
       "      <td>25804.0</td>\n",
       "      <td>0.0</td>\n",
       "      <td>12535.0</td>\n",
       "    </tr>\n",
       "    <tr>\n",
       "      <th>6.0</th>\n",
       "      <td>7627.0</td>\n",
       "      <td>2434.0</td>\n",
       "      <td>17584.0</td>\n",
       "    </tr>\n",
       "    <tr>\n",
       "      <th>7.0</th>\n",
       "      <td>7112.0</td>\n",
       "      <td>80.0</td>\n",
       "      <td>16223.0</td>\n",
       "    </tr>\n",
       "    <tr>\n",
       "      <th>8.0</th>\n",
       "      <td>1969.0</td>\n",
       "      <td>1867.0</td>\n",
       "      <td>13095.0</td>\n",
       "    </tr>\n",
       "    <tr>\n",
       "      <th>9.0</th>\n",
       "      <td>609.0</td>\n",
       "      <td>161.0</td>\n",
       "      <td>5881.0</td>\n",
       "    </tr>\n",
       "    <tr>\n",
       "      <th>10.0</th>\n",
       "      <td>450.0</td>\n",
       "      <td>22.0</td>\n",
       "      <td>12856.0</td>\n",
       "    </tr>\n",
       "    <tr>\n",
       "      <th>11.0</th>\n",
       "      <td>207.0</td>\n",
       "      <td>2070.0</td>\n",
       "      <td>51489.0</td>\n",
       "    </tr>\n",
       "    <tr>\n",
       "      <th>12.0</th>\n",
       "      <td>852.0</td>\n",
       "      <td>1200.0</td>\n",
       "      <td>7970.0</td>\n",
       "    </tr>\n",
       "  </tbody>\n",
       "</table>\n",
       "</div>"
      ],
      "text/plain": [
       "       Laid_Off_Count  Laid_Off_Count  Laid_Off_Count\n",
       "month                                                \n",
       "1.0               NaN          6013.0           510.0\n",
       "2.0               NaN           868.0          3625.0\n",
       "3.0            9628.0            47.0          5694.0\n",
       "4.0           26710.0           261.0          4064.0\n",
       "5.0           25804.0             0.0         12535.0\n",
       "6.0            7627.0          2434.0         17584.0\n",
       "7.0            7112.0            80.0         16223.0\n",
       "8.0            1969.0          1867.0         13095.0\n",
       "9.0             609.0           161.0          5881.0\n",
       "10.0            450.0            22.0         12856.0\n",
       "11.0            207.0          2070.0         51489.0\n",
       "12.0            852.0          1200.0          7970.0"
      ]
     },
     "execution_count": 39,
     "metadata": {},
     "output_type": "execute_result"
    }
   ],
   "source": [
    "combined = pd.concat([df1,df2,df3], axis = 1)\n",
    "combined"
   ]
  },
  {
   "cell_type": "code",
   "execution_count": 45,
   "id": "37645358",
   "metadata": {},
   "outputs": [
    {
     "data": {
      "text/plain": [
       "Text(0, 0.5, 'Layoff counts')"
      ]
     },
     "execution_count": 45,
     "metadata": {},
     "output_type": "execute_result"
    },
    {
     "data": {
      "image/png": "[encoded data removed]",
      "text/plain": [
       "<Figure size 1800x864 with 1 Axes>"
      ]
     },
     "metadata": {
      "needs_background": "light"
     },
     "output_type": "display_data"
    }
   ],
   "source": [
    "combined.plot(kind = 'bar', figsize = (25,12), fontsize = 20)\n",
    "plt.title(\"Layoff by months over the year\", fontsize = 15)\n",
    "plt.xlabel('Months', fontsize = 15)\n",
    "plt.ylabel(\"Layoff counts\", fontsize = 15)"
   ]
  },
  {
   "cell_type": "code",
   "execution_count": null,
   "id": "f0a399e1",
   "metadata": {},
   "outputs": [],
   "source": []
  }
 ],
 "metadata": {
  "kernelspec": {
   "display_name": "Python 3 (ipykernel)",
   "language": "python",
   "name": "python3"
  },
  "language_info": {
   "codemirror_mode": {
    "name": "ipython",
    "version": 3
   },
   "file_extension": ".py",
   "mimetype": "text/x-python",
   "name": "python",
   "nbconvert_exporter": "python",
   "pygments_lexer": "ipython3",
   "version": "3.9.7"
  }
 },
 "nbformat": 4,
 "nbformat_minor": 5
}
